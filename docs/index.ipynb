{
 "cells": [
  {
   "cell_type": "markdown",
   "metadata": {},
   "source": [
    "# `census_api` Documentation\n",
    "\n",
    "[Home](index) | [Usage](usage) | [Docs](docs) | [License](license) | [Help](help)\n",
    "\n",
    "[![Binder](https://mybinder.org/badge_logo.svg)](https://mybinder.org/v2/gh/chrispyles/census_api/master?filepath=demo%2Fcensus_api-demo.ipynb)\n",
    "\n",
    "## What is `census_api`?\n",
    "\n",
    "This library is a Python wrapper for querying the US Census API. This package is meant to abstract away from some of the technical details of things like tracts and FIPS code conversions, so that the only thing a user needs to do in the API docs is look up the names of the variables they want to get information on.\n",
    "\n",
    "## Installation\n",
    "\n",
    "You can install `census_api` using pip.\n",
    "\n",
    "```bash\n",
    "pip install census_api\n",
    "```\n",
    "\n",
    "## Changelog\n",
    "\n",
    "**v0.0.2:**\n",
    "\n",
    "* Fixed `__init__.py` import error\n",
    "\n",
    "**v0.0.1:**\n",
    "\n",
    "* Initial release!"
   ]
  },
  {
   "cell_type": "markdown",
   "metadata": {},
   "source": [
    " "
   ]
  }
 ],
 "metadata": {
  "kernelspec": {
   "display_name": "Python 3",
   "language": "python",
   "name": "python3"
  },
  "language_info": {
   "codemirror_mode": {
    "name": "ipython",
    "version": 3
   },
   "file_extension": ".py",
   "mimetype": "text/x-python",
   "name": "python",
   "nbconvert_exporter": "python",
   "pygments_lexer": "ipython3",
   "version": "3.6.5"
  },
  "varInspector": {
   "cols": {
    "lenName": 16,
    "lenType": 16,
    "lenVar": 40
   },
   "kernels_config": {
    "python": {
     "delete_cmd_postfix": "",
     "delete_cmd_prefix": "del ",
     "library": "var_list.py",
     "varRefreshCmd": "print(var_dic_list())"
    },
    "r": {
     "delete_cmd_postfix": ") ",
     "delete_cmd_prefix": "rm(",
     "library": "var_list.r",
     "varRefreshCmd": "cat(var_dic_list()) "
    }
   },
   "types_to_exclude": [
    "module",
    "function",
    "builtin_function_or_method",
    "instance",
    "_Feature"
   ],
   "window_display": false
  }
 },
 "nbformat": 4,
 "nbformat_minor": 2
}
