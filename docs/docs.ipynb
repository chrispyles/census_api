{
 "cells": [
  {
   "cell_type": "markdown",
   "metadata": {},
   "source": [
    "# Docs\n",
    "\n",
    "[Home](index) | [Usage](usage) | [Docs](docs) | [License](license) | [Help](help)\n",
    "\n",
    "This page contains the documentation for the classes and methods in the `census_api` package.\n",
    "\n",
    "**_class_ `census_api.census_query.CensusQuery(api_key, dataset, year=None, out=\"pd\")`**\n",
    "\n",
    "Initializes the CensusQuery object to start API requests\n",
    "\n",
    "Args:\n",
    "\n",
    "* api_key (`str`): User's API key\n",
    "* dataset (`str`): The dataset to be queried; `\"acs5\"`, `\"acs1\"`, or `\"sf1\"`\n",
    "\n",
    "Kwargs:\n",
    "\n",
    "* year (`int`): The year to query data for; can be overwritten in `CensusQuery.query`\n",
    "* out (`str`): Whether output should be `pandas.DataFrame` or `datascience.tables.Table`; `\"pd\"` or `\"ds\"`\n",
    "\n",
    "Returns:\n",
    "\n",
    "* `CensusQuery`. The `CensusQuery` instance to be used to query the API\n",
    "\n",
    "**_method_ `census_api.census_query.CensusQuery.query(variables, state, county=None, tract=\"*\", year=None)`**\n",
    "\n",
    "Queries Census API to get data regarding listed variables; if `year` provided, ignores `CensusData` instance year\n",
    "\n",
    "Args:\n",
    "\n",
    "* `variables` (`list`): List of variables to extract\n",
    "* `state` (`str`): Abbreviation for state from which to query data\n",
    "* `county` (`str`): County name for localized queries\n",
    "* `tract` (`str`): FIPS code for tract to query data from\n",
    "* `year` (`int`): Year for which to query data; if provided, ignores instance `year`\n",
    "\n",
    "Returns:\n",
    "\n",
    "* `pandas.DataFrame` or `datascience.tables.Table`. The data retrieved from the query\n",
    "\n",
    "---\n",
    "\n",
    "**_function_ census_api.utils.get_county_fips(county, state)**\n",
    "\n",
    "Uses `addfips` library to get FIPS codes for counties\n",
    "\n",
    "Args:\n",
    "\n",
    "* `county` (`str`): County to get FIPS code for\n",
    "* `state` (`str`): Abbreviation for state that contains `county`\n",
    "\n",
    "Returns:\n",
    "\n",
    "* `str`. The FIPS code of `county`\n",
    "\n",
    "**_function_ census_api.utils.zero_pad_state(state)**\n",
    "\n",
    "Returns state FIPS code zero-padded to 2 digits\n",
    "\n",
    "Args:\n",
    "\n",
    "* `state` (`str`): The state to get FIPS code for\n",
    "\n",
    "Returns:\n",
    "\n",
    "* `str`. The FIPS code for `state`"
   ]
  },
  {
   "cell_type": "markdown",
   "metadata": {},
   "source": [
    " "
   ]
  }
 ],
 "metadata": {
  "kernelspec": {
   "display_name": "Python 3",
   "language": "python",
   "name": "python3"
  },
  "language_info": {
   "codemirror_mode": {
    "name": "ipython",
    "version": 3
   },
   "file_extension": ".py",
   "mimetype": "text/x-python",
   "name": "python",
   "nbconvert_exporter": "python",
   "pygments_lexer": "ipython3",
   "version": "3.6.5"
  }
 },
 "nbformat": 4,
 "nbformat_minor": 2
}
